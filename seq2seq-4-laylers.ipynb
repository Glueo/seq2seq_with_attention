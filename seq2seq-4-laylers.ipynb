{
 "cells": [
  {
   "cell_type": "markdown",
   "id": "1623eb6a5cce817",
   "metadata": {},
   "source": [
    "# Sequence to Sequence (Seq2Seq) Model\n",
    "由于算力限制，该文件将提交至阿里云服务器运行，具体运行方法请参考阿里云文档。\n",
    "\n",
    "部分注释使用了fitten code协助生成"
   ]
  },
  {
   "cell_type": "markdown",
   "id": "d906c983343979a5",
   "metadata": {},
   "source": [
    "# import libraries"
   ]
  },
  {
   "cell_type": "code",
   "execution_count": 1,
   "id": "initial_id",
   "metadata": {
    "ExecuteTime": {
     "end_time": "2025-03-11T05:30:22.371971Z",
     "start_time": "2025-03-11T05:30:17.774427Z"
    },
    "execution": {
     "iopub.execute_input": "2025-03-11T05:56:15.770432Z",
     "iopub.status.busy": "2025-03-11T05:56:15.770183Z",
     "iopub.status.idle": "2025-03-11T05:56:20.229908Z",
     "shell.execute_reply": "2025-03-11T05:56:20.229258Z",
     "shell.execute_reply.started": "2025-03-11T05:56:15.770399Z"
    }
   },
   "outputs": [
    {
     "name": "stderr",
     "output_type": "stream",
     "text": [
      "/usr/local/lib/python3.10/site-packages/tqdm/auto.py:21: TqdmWarning: IProgress not found. Please update jupyter and ipywidgets. See https://ipywidgets.readthedocs.io/en/stable/user_install.html\n",
      "  from .autonotebook import tqdm as notebook_tqdm\n"
     ]
    },
    {
     "name": "stdout",
     "output_type": "stream",
     "text": [
      "sys.version_info(major=3, minor=10, micro=14, releaselevel='final', serial=0)\n",
      "matplotlib 3.10.0\n",
      "numpy 1.26.4\n",
      "pandas 2.2.3\n",
      "sklearn 1.6.1\n",
      "torch 2.5.1+cu124\n",
      "cuda:0\n"
     ]
    }
   ],
   "source": [
    "import matplotlib as mpl\n",
    "import matplotlib.pyplot as plt\n",
    "%matplotlib inline\n",
    "import numpy as np\n",
    "import sklearn\n",
    "import pandas as pd\n",
    "import os\n",
    "import sys\n",
    "import time\n",
    "from tqdm.auto import tqdm\n",
    "import torch\n",
    "import torch.nn as nn\n",
    "import torch.nn.functional as F\n",
    "\n",
    "print(sys.version_info)\n",
    "for module in mpl, np, pd, sklearn, torch:\n",
    "    print(module.__name__, module.__version__)\n",
    "\n",
    "device = torch.device(\"cuda:0\") if torch.cuda.is_available() else torch.device(\"cpu\")\n",
    "print(device)\n",
    "\n",
    "seed = 42   # 设置随机种子，使得每次运行结果一致\n",
    "torch.manual_seed(seed)\n",
    "torch.cuda.manual_seed_all(seed)\n",
    "np.random.seed(seed)\n"
   ]
  },
  {
   "cell_type": "markdown",
   "id": "81a0f5b6a3e63eb2",
   "metadata": {},
   "source": [
    "# Load Data"
   ]
  },
  {
   "cell_type": "code",
   "execution_count": 2,
   "id": "2c808aa668299f13",
   "metadata": {
    "ExecuteTime": {
     "end_time": "2025-03-11T05:30:22.441274Z",
     "start_time": "2025-03-11T05:30:22.372976Z"
    },
    "execution": {
     "iopub.execute_input": "2025-03-11T05:56:20.231675Z",
     "iopub.status.busy": "2025-03-11T05:56:20.231282Z",
     "iopub.status.idle": "2025-03-11T05:56:20.319311Z",
     "shell.execute_reply": "2025-03-11T05:56:20.318772Z",
     "shell.execute_reply.started": "2025-03-11T05:56:20.231650Z"
    }
   },
   "outputs": [
    {
     "name": "stdout",
     "output_type": "stream",
     "text": [
      "May I borrow this book?\n",
      "¿Puedo tomar prestado este libro?\n"
     ]
    }
   ],
   "source": [
    "import unicodedata\n",
    "import re\n",
    "from sklearn.model_selection import train_test_split\n",
    "\n",
    "#因为西班牙语有一些是特殊字符，所以我们需要unicode转ascii，\n",
    "# unicode占字节数比ascii多，所以我们需要把unicode转ascii\n",
    "# 这样值变小了，因为unicode太大\n",
    "def unicode_to_ascii(s):\n",
    "    #NFD是转换方法，把每一个字节拆开，Mn是重音，所以去除\n",
    "    return ''.join(c for c in unicodedata.normalize('NFD', s) if unicodedata.category(c) != 'Mn')\n",
    "\n",
    "#找个样本测试一下\n",
    "# 加u代表对字符串进行unicode编码\n",
    "en_sentence = u\"May I borrow this book?\"\n",
    "sp_sentence = u\"¿Puedo tomar prestado este libro?\"\n",
    "\n",
    "print(unicode_to_ascii(en_sentence))\n",
    "print(unicode_to_ascii(sp_sentence))"
   ]
  },
  {
   "cell_type": "code",
   "execution_count": 3,
   "id": "e18fc8c6662321db",
   "metadata": {
    "ExecuteTime": {
     "end_time": "2025-03-11T05:30:22.447300Z",
     "start_time": "2025-03-11T05:30:22.442322Z"
    },
    "execution": {
     "iopub.execute_input": "2025-03-11T05:56:20.320374Z",
     "iopub.status.busy": "2025-03-11T05:56:20.320024Z",
     "iopub.status.idle": "2025-03-11T05:56:20.325891Z",
     "shell.execute_reply": "2025-03-11T05:56:20.325301Z",
     "shell.execute_reply.started": "2025-03-11T05:56:20.320350Z"
    }
   },
   "outputs": [
    {
     "name": "stdout",
     "output_type": "stream",
     "text": [
      "may i borrow this book ?\n",
      "¿ puedo tomar prestado este libro ?\n",
      "b'\\xc2\\xbf puedo tomar prestado este libro ?'\n"
     ]
    }
   ],
   "source": [
    "def preprocess_sentence(w):\n",
    "    \"\"\"\n",
    "    Preprocess a sentence.\n",
    "    :param w:   The sentence to preprocess.\n",
    "    :return:    The preprocessed sentence.\n",
    "    \"\"\"\n",
    "    #变为小写，去掉多余的空格，变成小写，id少一些\n",
    "    w = unicode_to_ascii(w.lower().strip())\n",
    "\n",
    "    # 在单词与跟在其后的标点符号之间插入一个空格\n",
    "    # eg: \"he is a boy.\" => \"he is a boy . \"\n",
    "    # Reference:- https://stackoverflow.com/questions/3645931/python-padding-punctuation-with-white-spaces-keeping-punctuation\n",
    "    w = re.sub(r\"([?.!,¿])\", r\" \\1 \", w)\n",
    "    #因为可能有多余空格，替换为一个空格，所以处理一下\n",
    "    w = re.sub(r'[\" \"]+', \" \", w)\n",
    "\n",
    "    # 除了 (a-z, A-Z, \".\", \"?\", \"!\", \",\")，将所有字符替换为空格，你可以保留一些标点符号\n",
    "    w = re.sub(r\"[^a-zA-Z?.!,¿]+\", \" \", w)\n",
    "\n",
    "    w = w.rstrip().strip()\n",
    "\n",
    "    return w\n",
    "\n",
    "print(preprocess_sentence(en_sentence))\n",
    "print(preprocess_sentence(sp_sentence))\n",
    "print(preprocess_sentence(sp_sentence).encode('utf-8'))  #¿是占用两个字节的"
   ]
  },
  {
   "cell_type": "markdown",
   "id": "2d944f78d106754a",
   "metadata": {},
   "source": [
    "# 自定义数据集\n"
   ]
  },
  {
   "cell_type": "code",
   "execution_count": 4,
   "id": "f5197dee26119022",
   "metadata": {
    "ExecuteTime": {
     "end_time": "2025-03-11T05:30:22.693302Z",
     "start_time": "2025-03-11T05:30:22.448301Z"
    },
    "execution": {
     "iopub.execute_input": "2025-03-11T05:56:20.327168Z",
     "iopub.status.busy": "2025-03-11T05:56:20.326707Z",
     "iopub.status.idle": "2025-03-11T05:56:21.088860Z",
     "shell.execute_reply": "2025-03-11T05:56:21.088305Z",
     "shell.execute_reply.started": "2025-03-11T05:56:20.327142Z"
    }
   },
   "outputs": [],
   "source": [
    "from pathlib import Path    #引入pathlib模块\n",
    "from torch.utils.data import Dataset, DataLoader, dataset\n",
    "\n",
    "\n",
    "class LangPairDataset(Dataset):\n",
    "    \"\"\"\n",
    "    Custom dataset for language pair.\n",
    "    \"\"\"\n",
    "    fpath = Path(r\"./data_spa_en/spa.txt\") #数据文件路径\n",
    "    cache_path = Path(r\"./.cache/lang_pair.npy\") #缓存文件路径\n",
    "    split_index = np.random.choice(a=[\"train\", \"test\"], replace=True, p=[0.9, 0.1], size=118964) #按照9:1划分训练集和测试集\n",
    "    def __init__(self, mode=\"train\", cache=False):\n",
    "        if cache or not self.cache_path.exists():#如果没有缓存，或者缓存不存在，就处理一下数据\n",
    "            self.cache_path.parent.mkdir(parents=True, exist_ok=True) #创建缓存文件夹，如果存在就忽略\n",
    "            with open(self.fpath, \"r\", encoding=\"utf8\") as file:\n",
    "                lines = file.readlines()\n",
    "                lang_pair = [[preprocess_sentence(w) for w in l.split('\\t')]  for l in lines] #处理数据，变成list((trg, src))的形式\n",
    "                trg, src = zip(*lang_pair) #分离出目标语言和源语言\n",
    "                trg=np.array(trg) #转换为numpy数组\n",
    "                src=np.array(src) #转换为numpy数组\n",
    "                np.save(self.cache_path, {\"trg\": trg, \"src\": src})  #保存为npy文件,方便下次直接读取,不用再处理\n",
    "        else:\n",
    "            lang_pair = np.load(self.cache_path, allow_pickle=True).item() #读取npy文件，allow_pickle=True允许读取字典\n",
    "            trg = lang_pair[\"trg\"]  #取出目标语言\n",
    "            src = lang_pair[\"src\"]  #取出源语言\n",
    "\n",
    "        self.trg = trg[self.split_index == mode] #按照index拿到训练集的 标签语言 --英语\n",
    "        self.src = src[self.split_index == mode] #按照index拿到训练集的源语言 --西班牙\n",
    "\n",
    "    def __getitem__(self, index):    #返回数据\n",
    "        return self.src[index], self.trg[index]\n",
    "\n",
    "    def __len__(self):    #返回数据长度\n",
    "        return len(self.src)\n",
    "\n",
    "\n",
    "train_ds = LangPairDataset(\"train\")  #训练集\n",
    "test_ds = LangPairDataset(\"test\")   #测试集"
   ]
  },
  {
   "cell_type": "markdown",
   "id": "69fcc640aced2fa7",
   "metadata": {},
   "source": [
    "# Tokenize"
   ]
  },
  {
   "cell_type": "code",
   "execution_count": 5,
   "id": "b71a27e277b37f17",
   "metadata": {
    "ExecuteTime": {
     "end_time": "2025-03-11T05:30:23.237055Z",
     "start_time": "2025-03-11T05:30:22.694316Z"
    },
    "execution": {
     "iopub.execute_input": "2025-03-11T05:56:21.089718Z",
     "iopub.status.busy": "2025-03-11T05:56:21.089528Z",
     "iopub.status.idle": "2025-03-11T05:56:21.720028Z",
     "shell.execute_reply": "2025-03-11T05:56:21.719434Z",
     "shell.execute_reply.started": "2025-03-11T05:56:21.089697Z"
    }
   },
   "outputs": [],
   "source": [
    "from collections import Counter  #引入Counter模块\n",
    "\n",
    "def get_word_idx(ds, mode=\"src\", threshold=2):\n",
    "    \"\"\"\n",
    "    Get word indices.\n",
    "    :param ds:  The dataset.\n",
    "    :param mode:    The mode of the dataset, \"src\" or \"trg\".\n",
    "    :param threshold:    The threshold of word frequency.\n",
    "    :return:    The word2idx and idx2word.\n",
    "    \"\"\"\n",
    "    #载入词表，看下词表长度，词表就像英语字典\n",
    "    word2idx = {\n",
    "        \"[PAD]\": 0,     # 填充 token\n",
    "        \"[BOS]\": 1,     # begin of sentence\n",
    "        \"[UNK]\": 2,     # 未知 token\n",
    "        \"[EOS]\": 3,     # end of sentence\n",
    "    }\n",
    "    idx2word = {value: key for key, value in word2idx.items()}  # 反向词表\n",
    "    index = len(idx2word)  # 词表长度\n",
    "    threshold = 1  # 出现次数低于此的token舍弃\n",
    "    #如果数据集有很多个G，那是用for循环的，不能' '.join\n",
    "    word_list = \" \".join([pair[0 if mode==\"src\" else 1] for pair in ds]).split()  # 取出源语言或目标语言的单词列表\n",
    "    counter = Counter(word_list) #统计词频,counter类似字典，key是单词，value是出现次数\n",
    "\n",
    "    for token, count in counter.items():    #遍历词频\n",
    "        if count >= threshold:#出现次数大于阈值的token加入词表\n",
    "            word2idx[token] = index #加入词表\n",
    "            idx2word[index] = token #加入反向词表\n",
    "            index += 1  #词表长度加1\n",
    "\n",
    "    return word2idx, idx2word    #返回词表和反向词表\n",
    "\n",
    "src_word2idx, src_idx2word = get_word_idx(train_ds, \"src\") #源语言词表  西班牙语\n",
    "trg_word2idx, trg_idx2word = get_word_idx(train_ds, \"trg\") #目标语言词表 英语"
   ]
  },
  {
   "cell_type": "code",
   "execution_count": 6,
   "id": "f463bc53b7cb9eb2",
   "metadata": {
    "ExecuteTime": {
     "end_time": "2025-03-11T05:30:23.251383Z",
     "start_time": "2025-03-11T05:30:23.237055Z"
    },
    "execution": {
     "iopub.execute_input": "2025-03-11T05:56:21.722268Z",
     "iopub.status.busy": "2025-03-11T05:56:21.722027Z",
     "iopub.status.idle": "2025-03-11T05:56:21.763879Z",
     "shell.execute_reply": "2025-03-11T05:56:21.763175Z",
     "shell.execute_reply.started": "2025-03-11T05:56:21.722243Z"
    }
   },
   "outputs": [
    {
     "name": "stdout",
     "output_type": "stream",
     "text": [
      "raw text----------\n",
      "['hello', 'world']\n",
      "['tokenize', 'text', 'datas', 'with', 'batch']\n",
      "['this', 'is', 'a', 'test']\n",
      "mask----------\n",
      "tensor([0, 0, 0, 0, 1, 1, 1])\n",
      "tensor([0, 0, 0, 0, 0, 0, 0])\n",
      "tensor([0, 0, 0, 0, 0, 0, 1])\n",
      "indices----------\n",
      "tensor([   1,   17, 3224,    3,    0,    0,    0])\n",
      "tensor([   1,    2, 3870,    2,  538,    2,    3])\n",
      "tensor([   1,  121,  233,  107, 1262,    3,    0])\n"
     ]
    }
   ],
   "source": [
    "# 设置Tokenizer\n",
    "class Tokenizer:\n",
    "    \"\"\"\n",
    "    Tokenizer class.\n",
    "    \"\"\"\n",
    "    def __init__(self, word2idx, idx2word, max_length=500, pad_idx=0, bos_idx=1, eos_idx=3, unk_idx=2):\n",
    "        self.word2idx = word2idx    #词表\n",
    "        self.idx2word = idx2word    #反向词表\n",
    "        self.max_length = max_length    #最大长度\n",
    "        self.pad_idx = pad_idx    #padding的index\n",
    "        self.bos_idx = bos_idx    #bos的index\n",
    "        self.eos_idx = eos_idx    #eos的index\n",
    "        self.unk_idx = unk_idx    #unk的index\n",
    "\n",
    "    def encode(self, text_list, padding_first=False, add_bos=True, add_eos=True, return_mask=False):\n",
    "        \"\"\"\n",
    "        如果padding_first == True，则padding加载前面，否则加载后面\n",
    "        return_mask: 是否返回mask(掩码），mask用于指示哪些是padding的，哪些是真实的token\n",
    "        :param text_list:    The text to encode.\n",
    "        :param padding_first:    Whether to padding load first.\n",
    "        :param add_bos:     Whether to add bos.\n",
    "        :param add_eos:     Whether to add eos.\n",
    "        :param return_mask: Whether to return mask.\n",
    "        :return:    The encoded text.\n",
    "        \"\"\"\n",
    "        max_length = min(self.max_length, add_eos + add_bos + max([len(text) for text in text_list]))    #最大长度\n",
    "        indices_list = []    #indices_list是一个list，里面是每个样本的index\n",
    "        for text in text_list:  #遍历每个样本\n",
    "            indices = [self.word2idx.get(word, self.unk_idx) for word in text[:max_length - add_bos - add_eos]] #如果词表中没有这个词，就用unk_idx代替，indices是一个list,里面是每个词的index,也就是一个样本的index\n",
    "            if add_bos:  #如果需要添加bos，就在开头添加\n",
    "                indices = [self.bos_idx] + indices\n",
    "            if add_eos:  #如果需要添加eos，就在结尾添加\n",
    "                indices = indices + [self.eos_idx]\n",
    "            if padding_first:#padding加载前面，超参可以调\n",
    "                indices = [self.pad_idx] * (max_length - len(indices)) + indices\n",
    "            else:#padding加载后面\n",
    "                indices = indices + [self.pad_idx] * (max_length - len(indices))\n",
    "            indices_list.append(indices)\n",
    "        input_ids = torch.tensor(indices_list) #转换为tensor\n",
    "        masks = (input_ids == self.pad_idx).to(dtype=torch.int64) #mask是一个和input_ids一样大小的tensor，0代表token，1代表padding，mask用于去除padding的影响\n",
    "        return input_ids if not return_mask else (input_ids, masks)\n",
    "\n",
    "\n",
    "    def decode(self, indices_list, remove_bos=True, remove_eos=True, remove_pad=True, split=False):\n",
    "        \"\"\"\n",
    "        Decode indices to text.\n",
    "        :param indices_list:    The indices to decode.\n",
    "        :param remove_bos:     Whether to remove bos.\n",
    "        :param remove_eos:     Whether to remove eos.\n",
    "        :param remove_pad:     Whether to remove pad.\n",
    "        :param split:         Whether to split the text into words.\n",
    "        :return:    The decoded text.\n",
    "        \"\"\"\n",
    "        text_list = []\n",
    "        for indices in indices_list:\n",
    "            text = []\n",
    "            for index in indices:\n",
    "                word = self.idx2word.get(index, \"[UNK]\") #如果词表中没有这个词，就用unk_idx代替\n",
    "                if remove_bos and word == \"[BOS]\":\n",
    "                    continue\n",
    "                if remove_eos and word == \"[EOS]\":#如果到达eos，就结束\n",
    "                    break\n",
    "                if remove_pad and word == \"[PAD]\":#如果到达pad，就结束\n",
    "                    break\n",
    "                text.append(word) #单词添加到列表中\n",
    "            text_list.append(\" \".join(text) if not split else text) #把列表中的单词拼接，变为一个句子\n",
    "        return text_list\n",
    "\n",
    "#两个相对于1个toknizer的好处是embedding的参数量减少\n",
    "src_tokenizer = Tokenizer(word2idx=src_word2idx, idx2word=src_idx2word) #源语言tokenizer\n",
    "trg_tokenizer = Tokenizer(word2idx=trg_word2idx, idx2word=trg_idx2word) #目标语言tokenizer\n",
    "\n",
    "raw_text = [\"hello world\".split(), \"tokenize text datas with batch\".split(), \"this is a test\".split()]\n",
    "indices,mask = trg_tokenizer.encode(raw_text, padding_first=False, add_bos=True, add_eos=True,return_mask=True)\n",
    "\n",
    "# 测试一下\n",
    "print(\"raw text\"+'-'*10)\n",
    "for raw in raw_text:\n",
    "    print(raw)\n",
    "print(\"mask\"+'-'*10)\n",
    "for m in mask:\n",
    "    print(m)\n",
    "print(\"indices\"+'-'*10)\n",
    "for index in indices:\n",
    "    print(index)\n"
   ]
  },
  {
   "cell_type": "code",
   "execution_count": 7,
   "id": "844989a0021babf0",
   "metadata": {
    "ExecuteTime": {
     "end_time": "2025-03-11T05:30:23.256148Z",
     "start_time": "2025-03-11T05:30:23.252455Z"
    },
    "execution": {
     "iopub.execute_input": "2025-03-11T05:56:21.764795Z",
     "iopub.status.busy": "2025-03-11T05:56:21.764583Z",
     "iopub.status.idle": "2025-03-11T05:56:21.768853Z",
     "shell.execute_reply": "2025-03-11T05:56:21.768289Z",
     "shell.execute_reply.started": "2025-03-11T05:56:21.764773Z"
    }
   },
   "outputs": [
    {
     "name": "stdout",
     "output_type": "stream",
     "text": [
      "decode text----------\n",
      "[BOS] hello world [EOS] [PAD] [PAD] [PAD]\n",
      "[BOS] [UNK] text [UNK] with [UNK] [EOS]\n",
      "[BOS] this is a test [EOS] [PAD]\n"
     ]
    }
   ],
   "source": [
    "# 测试一下decode\n",
    "decode_text = trg_tokenizer.decode(indices.tolist(), remove_bos=False, remove_eos=False, remove_pad=False)\n",
    "print(\"decode text\"+'-'*10)\n",
    "for decode in decode_text:\n",
    "    print(decode)"
   ]
  },
  {
   "cell_type": "markdown",
   "id": "3be657c4e33a8041",
   "metadata": {},
   "source": [
    "# DataLoader"
   ]
  },
  {
   "cell_type": "code",
   "execution_count": 8,
   "id": "4f7794dd9be14d91",
   "metadata": {
    "ExecuteTime": {
     "end_time": "2025-03-11T05:30:23.263117Z",
     "start_time": "2025-03-11T05:30:23.257475Z"
    },
    "execution": {
     "iopub.execute_input": "2025-03-11T05:56:21.769781Z",
     "iopub.status.busy": "2025-03-11T05:56:21.769568Z",
     "iopub.status.idle": "2025-03-11T05:56:21.775038Z",
     "shell.execute_reply": "2025-03-11T05:56:21.774544Z",
     "shell.execute_reply.started": "2025-03-11T05:56:21.769759Z"
    }
   },
   "outputs": [],
   "source": [
    "def collate_fct(batch):\n",
    "    \"\"\"\n",
    "    Collate function. 该函数用于将batch内的数据处理成统一的格式，方便后续的训练\n",
    "    :param batch:    The batch to collate.\n",
    "    :return:    The collated batch.\n",
    "    \"\"\"\n",
    "    src_words = [pair[0].split() for pair in batch] #取batch内第0列进行分词，赋给src_words\n",
    "    trg_words = [pair[1].split() for pair in batch] #取batch内第1列进行分词，赋给trg_words\n",
    "\n",
    "    # [PAD] [BOS] src [EOS]\n",
    "    encoder_inputs, encoder_inputs_mask = src_tokenizer.encode(\n",
    "        src_words, padding_first=True, add_bos=True, add_eos=True, return_mask=True\n",
    "        )   \n",
    "\n",
    "    # [BOS] trg [PAD]\n",
    "    decoder_inputs = trg_tokenizer.encode(\n",
    "        trg_words, padding_first=False, add_bos=True, add_eos=False, return_mask=False,\n",
    "        )\n",
    "\n",
    "    # trg [EOS] [PAD]\n",
    "    decoder_labels, decoder_labels_mask = trg_tokenizer.encode(\n",
    "        trg_words, padding_first=False, add_bos=False, add_eos=True, return_mask=True\n",
    "        )\n",
    "\n",
    "    return {\n",
    "        \"encoder_inputs\": encoder_inputs.to(device=device),\n",
    "        \"encoder_inputs_mask\": encoder_inputs_mask.to(device=device),\n",
    "        \"decoder_inputs\": decoder_inputs.to(device=device),\n",
    "        \"decoder_labels\": decoder_labels.to(device=device),\n",
    "        \"decoder_labels_mask\": decoder_labels_mask.to(device=device), #mask用于去除padding的影响，计算loss时用\n",
    "    } #当返回的数据较多时，用dict返回比较合理\n"
   ]
  },
  {
   "cell_type": "code",
   "execution_count": 9,
   "id": "c6036b691ece3da8",
   "metadata": {
    "ExecuteTime": {
     "end_time": "2025-03-11T05:30:23.389777Z",
     "start_time": "2025-03-11T05:30:23.264344Z"
    },
    "execution": {
     "iopub.execute_input": "2025-03-11T05:56:21.775847Z",
     "iopub.status.busy": "2025-03-11T05:56:21.775673Z",
     "iopub.status.idle": "2025-03-11T05:56:21.911573Z",
     "shell.execute_reply": "2025-03-11T05:56:21.910984Z",
     "shell.execute_reply.started": "2025-03-11T05:56:21.775827Z"
    }
   },
   "outputs": [
    {
     "name": "stdout",
     "output_type": "stream",
     "text": [
      "encoder_inputs\n",
      "tensor([[   0,    0,    0,    0,    1,  350, 4002, 2826, 2827,    5,    3],\n",
      "        [   1,   12, 2266,  706,   80,  294,   88,   83,  297,   14,    3]],\n",
      "       device='cuda:0')\n",
      "encoder_inputs_mask\n",
      "tensor([[1, 1, 1, 1, 0, 0, 0, 0, 0, 0, 0],\n",
      "        [0, 0, 0, 0, 0, 0, 0, 0, 0, 0, 0]], device='cuda:0')\n",
      "decoder_inputs\n",
      "tensor([[   1,  197,  756, 1413,    5,    0,    0,    0,    0,    0],\n",
      "        [   1,  332,   90, 1090,  443,  158,   31,  680, 3688,   10]],\n",
      "       device='cuda:0')\n",
      "decoder_labels\n",
      "tensor([[ 197,  756, 1413,    5,    3,    0,    0,    0,    0,    0],\n",
      "        [ 332,   90, 1090,  443,  158,   31,  680, 3688,   10,    3]],\n",
      "       device='cuda:0')\n",
      "decoder_labels_mask\n",
      "tensor([[0, 0, 0, 0, 0, 1, 1, 1, 1, 1],\n",
      "        [0, 0, 0, 0, 0, 0, 0, 0, 0, 0]], device='cuda:0')\n"
     ]
    }
   ],
   "source": [
    "# 测试一下\n",
    "sample_dl = DataLoader(train_ds, batch_size=2, shuffle=True, collate_fn=collate_fct)\n",
    "\n",
    "#两次执行这个代码效果不一样，因为每次执行都会shuffle\n",
    "for batch in sample_dl:\n",
    "    for key, value in batch.items():\n",
    "        print(key)\n",
    "        print(value)\n",
    "    break"
   ]
  },
  {
   "cell_type": "markdown",
   "id": "3997e8ab8403bf9f",
   "metadata": {},
   "source": [
    "# Seq2Seq Model"
   ]
  },
  {
   "cell_type": "code",
   "execution_count": 10,
   "id": "326c13c60f1de3ea",
   "metadata": {
    "ExecuteTime": {
     "end_time": "2025-03-11T05:30:23.395516Z",
     "start_time": "2025-03-11T05:30:23.390281Z"
    },
    "execution": {
     "iopub.execute_input": "2025-03-11T05:56:21.912503Z",
     "iopub.status.busy": "2025-03-11T05:56:21.912238Z",
     "iopub.status.idle": "2025-03-11T05:56:21.917600Z",
     "shell.execute_reply": "2025-03-11T05:56:21.916894Z",
     "shell.execute_reply.started": "2025-03-11T05:56:21.912481Z"
    }
   },
   "outputs": [],
   "source": [
    "class Encoder(nn.Module):\n",
    "    \"\"\"\n",
    "    Encoder class.\n",
    "    \"\"\"\n",
    "    def __init__(\n",
    "        self,\n",
    "        vocab_size, #词表大小\n",
    "        embedding_dim=256,  #embedding维度\n",
    "        hidden_dim=1024,    #隐藏层维度\n",
    "        num_layers=1,        #层数\n",
    "        ):\n",
    "        super().__init__()\n",
    "        self.embedding = nn.Embedding(vocab_size, embedding_dim)    #embedding层\n",
    "        self.gru = nn.GRU(embedding_dim, hidden_dim, num_layers=num_layers, batch_first=True)    #gru层\n",
    "\n",
    "    def forward(self, encoder_inputs):  #encoder的前向传播\n",
    "        # encoder_inputs.shape = [batch size, sequence length]\n",
    "        # bs, seq_len = encoder_inputs.shape\n",
    "        embeds = self.embedding(encoder_inputs)  #embedding层\n",
    "        # embeds.shape = [batch size, sequence length, embedding_dim]->[batch size, sequence length, hidden_dim]\n",
    "        seq_output, hidden = self.gru(embeds)        #gru层\n",
    "        # seq_output.shape = [batch size, sequence length, hidden_dim]，hidden.shape [ num_layers, batch size, hidden_dim]\n",
    "        return seq_output, hidden    #返回输出和隐藏层"
   ]
  },
  {
   "cell_type": "code",
   "execution_count": 11,
   "id": "5d62c5192865aada",
   "metadata": {
    "ExecuteTime": {
     "end_time": "2025-03-11T05:30:23.585327Z",
     "start_time": "2025-03-11T05:30:23.396028Z"
    },
    "execution": {
     "iopub.execute_input": "2025-03-11T05:56:21.918834Z",
     "iopub.status.busy": "2025-03-11T05:56:21.918401Z",
     "iopub.status.idle": "2025-03-11T05:56:22.211874Z",
     "shell.execute_reply": "2025-03-11T05:56:22.211355Z",
     "shell.execute_reply.started": "2025-03-11T05:56:21.918812Z"
    }
   },
   "outputs": [
    {
     "name": "stdout",
     "output_type": "stream",
     "text": [
      "torch.Size([2, 50, 1024])\n",
      "torch.Size([4, 2, 1024])\n",
      "tensor([[-0.0636,  0.0092,  0.0103,  ..., -0.0153, -0.0004, -0.0341],\n",
      "        [-0.0175,  0.0283,  0.0105,  ...,  0.0142,  0.0282, -0.0413]],\n",
      "       grad_fn=<SliceBackward0>)\n",
      "tensor([[-0.0636,  0.0092,  0.0103,  ..., -0.0153, -0.0004, -0.0341],\n",
      "        [-0.0175,  0.0283,  0.0105,  ...,  0.0142,  0.0282, -0.0413]],\n",
      "       grad_fn=<SliceBackward0>)\n"
     ]
    }
   ],
   "source": [
    "#把上面的Encoder写一个例子，看看输出的shape\n",
    "encoder = Encoder(vocab_size=100, embedding_dim=256, hidden_dim=1024, num_layers=4)\n",
    "encoder_inputs = torch.randint(0, 100, (2, 50))\n",
    "encoder_outputs, hidden = encoder(encoder_inputs)\n",
    "print(encoder_outputs.shape)\n",
    "print(hidden.shape)\n",
    "print(encoder_outputs[:,-1,:])\n",
    "print(hidden[-1,:,:]) #取最后一层的hidden\n",
    "# 这样是为了确保数据的正确性，防止错误"
   ]
  },
  {
   "cell_type": "markdown",
   "id": "3c2e2c9a63e54258",
   "metadata": {},
   "source": [
    "# Attention Bahdanau used in the paper"
   ]
  },
  {
   "cell_type": "code",
   "execution_count": 12,
   "id": "db2b53f371afce72",
   "metadata": {
    "ExecuteTime": {
     "end_time": "2025-03-11T05:30:23.592685Z",
     "start_time": "2025-03-11T05:30:23.586670Z"
    },
    "execution": {
     "iopub.execute_input": "2025-03-11T05:56:22.212765Z",
     "iopub.status.busy": "2025-03-11T05:56:22.212497Z",
     "iopub.status.idle": "2025-03-11T05:56:22.219116Z",
     "shell.execute_reply": "2025-03-11T05:56:22.218540Z",
     "shell.execute_reply.started": "2025-03-11T05:56:22.212743Z"
    }
   },
   "outputs": [],
   "source": [
    "# 注意力机制在torch中也表现为一个层，这里使用BahdanauAttention，它是一种比较常用的注意力机制，也就是加权求和的注意力机制\n",
    "class BahdanauAttention(nn.Module):\n",
    "    \"\"\"\n",
    "    BahdanauAttention class.\n",
    "    \"\"\"\n",
    "    def __init__(self, hidden_dim=1024):\n",
    "        super().__init__()\n",
    "        self.Wk = nn.Linear(hidden_dim, hidden_dim) #对keys做运算，encoder的输出EO\n",
    "        self.Wq = nn.Linear(hidden_dim, hidden_dim) #对query做运算，decoder的隐藏状态\n",
    "        self.V = nn.Linear(hidden_dim, 1)\n",
    "\n",
    "    def forward(self, query, keys, values, attn_mask=None):\n",
    "        \"\"\"\n",
    "        正向传播\n",
    "        :param query: hidden state，是decoder的隐藏状态，shape = [batch size, hidden_dim]\n",
    "        :param keys: EO  [batch size, sequence length, hidden_dim]\n",
    "        :param values: EO  [batch size, sequence length, hidden_dim]\n",
    "        :param attn_mask:[batch size, sequence length],这里是encoder_inputs_mask\n",
    "        :return:\n",
    "        \"\"\"\n",
    "        # query.shape = [batch size, hidden_dim] -->通过unsqueeze(-2)增加维度 [batch size, 1, hidden_dim]\n",
    "        # keys.shape = [batch size, sequence length, hidden_dim]\n",
    "        # values.shape = [batch size, sequence length, hidden_dim]\n",
    "        scores = self.V(F.tanh(self.Wk(keys) + self.Wq(query.unsqueeze(-2)))) #unsqueeze(-2)增加维度\n",
    "        # score.shape = [batch size, sequence length, 1]\n",
    "        if attn_mask is not None: #这个mask是encoder_inputs_mask，用来mask掉padding的部分,让padding部分socres为0\n",
    "            # attn_mask is a matrix of 0/1 element,\n",
    "            # 1 means to mask logits while 0 means do nothing\n",
    "            # here we add -inf to the element while mask == 1\n",
    "            attn_mask = (attn_mask.unsqueeze(-1)) * -1e16 #在最后增加一个维度，[batch size, sequence length] --> [batch size, sequence length, 1]\n",
    "            scores += attn_mask\n",
    "        scores = F.softmax(scores, dim=-2) #对每一个词的score做softmax\n",
    "        # score.shape = [batch size, sequence length, 1]\n",
    "        context_vector = torch.mul(scores, values).sum(dim=-2) #对每一个词的score和对应的value做乘法，然后在seq_len维度上求和，得到context_vector\n",
    "        # context_vector.shape = [batch size, hidden_dim]\n",
    "        #socres用于最后的画图\n",
    "        return context_vector, scores   #返回context_vector和scores\n"
   ]
  },
  {
   "cell_type": "code",
   "execution_count": 13,
   "id": "6cc066eb856c87e8",
   "metadata": {
    "ExecuteTime": {
     "end_time": "2025-03-11T05:30:23.616506Z",
     "start_time": "2025-03-11T05:30:23.592685Z"
    },
    "execution": {
     "iopub.execute_input": "2025-03-11T05:56:22.220085Z",
     "iopub.status.busy": "2025-03-11T05:56:22.219782Z",
     "iopub.status.idle": "2025-03-11T05:56:22.248008Z",
     "shell.execute_reply": "2025-03-11T05:56:22.247371Z",
     "shell.execute_reply.started": "2025-03-11T05:56:22.220064Z"
    }
   },
   "outputs": [
    {
     "name": "stdout",
     "output_type": "stream",
     "text": [
      "torch.Size([2, 1024])\n",
      "torch.Size([2, 50, 1])\n"
     ]
    }
   ],
   "source": [
    "# 测试一下Attention\n",
    "attention = BahdanauAttention(hidden_dim=1024)\n",
    "query = torch.randn(2, 1024) #Decoder的隐藏状态\n",
    "keys = torch.randn(2, 50, 1024) #EO\n",
    "values = torch.randn(2, 50, 1024) #EO\n",
    "attn_mask = torch.randint(0, 2, (2, 50))\n",
    "context_vector, scores = attention(query, keys, values, attn_mask)\n",
    "print(context_vector.shape)\n",
    "print(scores.shape)"
   ]
  },
  {
   "cell_type": "code",
   "execution_count": 14,
   "id": "a15c5ebed39a8754",
   "metadata": {
    "ExecuteTime": {
     "end_time": "2025-03-11T05:30:23.626259Z",
     "start_time": "2025-03-11T05:30:23.619011Z"
    },
    "execution": {
     "iopub.execute_input": "2025-03-11T05:56:22.249142Z",
     "iopub.status.busy": "2025-03-11T05:56:22.248700Z",
     "iopub.status.idle": "2025-03-11T05:56:22.255842Z",
     "shell.execute_reply": "2025-03-11T05:56:22.255214Z",
     "shell.execute_reply.started": "2025-03-11T05:56:22.249120Z"
    }
   },
   "outputs": [],
   "source": [
    "class Decoder(nn.Module):\n",
    "    \"\"\"\n",
    "    Decoder class.\n",
    "    \"\"\"\n",
    "    def __init__(\n",
    "        self,\n",
    "        vocab_size, #词表大小\n",
    "        embedding_dim=256,  #embedding维度\n",
    "        hidden_dim=1024,    #隐藏层维度\n",
    "        num_layers=1,        #层数\n",
    "        ):\n",
    "        super(Decoder, self).__init__()\n",
    "        self.embedding = nn.Embedding(vocab_size, embedding_dim)\n",
    "        self.gru = nn.GRU(embedding_dim + hidden_dim, hidden_dim, num_layers=num_layers, batch_first=True)\n",
    "        self.fc = nn.Linear(hidden_dim, vocab_size) #最后分类,词典大小是多少，就输出多少个分类\n",
    "        self.dropout = nn.Dropout(0.6)\n",
    "        self.attention = BahdanauAttention(hidden_dim) #注意力得到的context_vector\n",
    "\n",
    "    def forward(self, decoder_input, hidden, encoder_outputs, attn_mask=None):\n",
    "        #attn_mask是encoder_inputs_mask\n",
    "        # decoder_input.shape = [batch size, 1]\n",
    "        assert len(decoder_input.shape) == 2 and decoder_input.shape[-1] == 1, f\"decoder_input.shape = {decoder_input.shape} is not valid\"\n",
    "        # hidden.shape = [batch size, hidden_dim]，decoder_hidden,而第一次使用的是encoder的hidden\n",
    "        assert len(hidden.shape) == 2, f\"hidden.shape = {hidden.shape} is not valid\"\n",
    "        # encoder_outputs.shape = [batch size, sequence length, hidden_dim]\n",
    "        assert len(encoder_outputs.shape) == 3, f\"encoder_outputs.shape = {encoder_outputs.shape} is not valid\"\n",
    "        # context_vector.shape = [batch_size, hidden_dim]\n",
    "        context_vector, attention_score = self.attention(\n",
    "            query=hidden, keys=encoder_outputs, values=encoder_outputs, attn_mask=attn_mask)\n",
    "        # decoder_input.shape = [batch size, 1]\n",
    "        embeds = self.embedding(decoder_input)\n",
    "        # embeds.shape = [batch size, 1, embedding_dim]\n",
    "        # context_vector.shape = [batch size, hidden_dim] -->unsqueeze(-2)增加维度 [batch size, 1, hidden_dim]\n",
    "        embeds = torch.cat([context_vector.unsqueeze(-2), embeds], dim=-1)\n",
    "        # 新的embeds.shape = [batch size, 1, embedding_dim + hidden_dim]\n",
    "        seq_output, hidden = self.gru(embeds)\n",
    "        # seq_output.shape = [batch size, 1, hidden_dim]\n",
    "        logits = self.fc(self.dropout(seq_output))\n",
    "        # logits.shape = [batch size, 1, vocab size]，attention_score = [batch size, sequence length, 1]\n",
    "        return logits, hidden, attention_score\n",
    "\n"
   ]
  },
  {
   "cell_type": "code",
   "execution_count": 15,
   "id": "ed1e3088023f43bf",
   "metadata": {
    "ExecuteTime": {
     "end_time": "2025-03-11T05:30:23.638109Z",
     "start_time": "2025-03-11T05:30:23.627259Z"
    },
    "execution": {
     "iopub.execute_input": "2025-03-11T05:56:22.256967Z",
     "iopub.status.busy": "2025-03-11T05:56:22.256657Z",
     "iopub.status.idle": "2025-03-11T05:56:22.267041Z",
     "shell.execute_reply": "2025-03-11T05:56:22.266447Z",
     "shell.execute_reply.started": "2025-03-11T05:56:22.256946Z"
    }
   },
   "outputs": [],
   "source": [
    "# 正式引入Seq2Seq模型\n",
    "class Sequence2Sequence(nn.Module):\n",
    "    \"\"\"\n",
    "    Sequence2Sequence class.\n",
    "    \"\"\"\n",
    "    def __init__(\n",
    "        self,\n",
    "        src_vocab_size, #输入词典大小\n",
    "        trg_vocab_size, #输出词典大小\n",
    "        encoder_embedding_dim=256,\n",
    "        encoder_hidden_dim=1024, #encoder_hidden_dim和decoder_hidden_dim必须相同，是因为BahdanauAttention设计的\n",
    "        encoder_num_layers=4,    #encoder层数\n",
    "        decoder_embedding_dim=256,  \n",
    "        decoder_hidden_dim=1024,    \n",
    "        decoder_num_layers=4,    #decoder层数\n",
    "        bos_idx=1,    #开始标记\n",
    "        eos_idx=3,    #结束标记\n",
    "        max_length=512,  #最大长度\n",
    "        ):\n",
    "        super(Sequence2Sequence, self).__init__()\n",
    "        self.bos_idx = bos_idx  #开始标记\n",
    "        self.eos_idx = eos_idx  #结束标记\n",
    "        self.max_length = max_length    #最大长度\n",
    "        self.encoder = Encoder(         # encoder层数\n",
    "            src_vocab_size, #输入词典大小\n",
    "            embedding_dim=encoder_embedding_dim,    #embedding维度\n",
    "            hidden_dim=encoder_hidden_dim,    #隐藏层维度\n",
    "            num_layers=encoder_num_layers,    #层数\n",
    "            )\n",
    "        self.decoder = Decoder(         # decoder层数\n",
    "            trg_vocab_size, #输出词典大小\n",
    "            embedding_dim=decoder_embedding_dim,    #embedding维度\n",
    "            hidden_dim=decoder_hidden_dim,    #隐藏层维度\n",
    "            num_layers=decoder_num_layers,    #层数\n",
    "            )\n",
    "\n",
    "    def forward(self, *, encoder_inputs, decoder_inputs, attn_mask=None):\n",
    "        # encoding\n",
    "        encoder_outputs, hidden = self.encoder(encoder_inputs)\n",
    "        # decoding with teacher forcing\n",
    "        bs, seq_len = decoder_inputs.shape\n",
    "        logits_list = []\n",
    "        scores_list = []\n",
    "        for i in range(seq_len):#串行训练\n",
    "            # 每次迭代生成一个时间步的预测，存储在 logits_list 中，并且记录注意力分数（如果有的话）在 scores_list 中，最后将预测的logits和注意力分数拼接并返回。\n",
    "            logits, hidden, score = self.decoder(\n",
    "                decoder_inputs[:, i:i+1],\n",
    "                hidden[-1], #取最后一层的hidden，第一个时间步时，hidden是encoder的hidden，第二个时间步时，hidden是decoder的hidden\n",
    "                encoder_outputs,\n",
    "                attn_mask=attn_mask\n",
    "                )\n",
    "            logits_list.append(logits) #记录预测的logits，用于计算损失\n",
    "            scores_list.append(score) #记录注意力分数,用于画图\n",
    "\n",
    "        return torch.cat(logits_list, dim=-2), torch.cat(scores_list, dim=-1)\n",
    "\n",
    "    @torch.no_grad() #不计算梯度\n",
    "    def infer(self, encoder_input, attn_mask=None):\n",
    "        #infer用于预测\n",
    "        # encoder_input.shape = [1, sequence length],这只支持batch_size=1\n",
    "        # encoding\n",
    "        encoder_outputs, hidden = self.encoder(encoder_input)\n",
    "\n",
    "        # decoding，[[1]]\n",
    "        decoder_input = torch.Tensor([self.bos_idx]).reshape(1, 1).to(dtype=torch.int64) #shape为[1,1]，内容为开始标记\n",
    "        decoder_pred = None\n",
    "        pred_list = [] #预测序列\n",
    "        score_list = []\n",
    "        # 从开始标记 bos_idx 开始，迭代地生成序列，直到生成结束标记 eos_idx 或达到最大长度 max_length。\n",
    "        for _ in range(self.max_length):\n",
    "            logits, hidden, score = self.decoder(\n",
    "                decoder_input,\n",
    "                hidden[-1],\n",
    "                encoder_outputs,\n",
    "                attn_mask=attn_mask\n",
    "                )\n",
    "            # using greedy search,logits shape = [1, 1, vocab size]\n",
    "            decoder_pred = logits.argmax(dim=-1)\n",
    "            decoder_input = decoder_pred\n",
    "            pred_list.append(decoder_pred.reshape(-1).item()) #decoder_pred从(1,1)变为（1）标量\n",
    "            score_list.append(score) #记录注意力分数,用于画图\n",
    "\n",
    "            # stop at eos token\n",
    "            if decoder_pred == self.eos_idx:\n",
    "                break\n",
    "\n",
    "        # return\n",
    "        return pred_list, torch.cat(score_list, dim=-1)\n",
    "\n"
   ]
  },
  {
   "cell_type": "code",
   "execution_count": 16,
   "id": "4980add9e7e205e6",
   "metadata": {
    "ExecuteTime": {
     "end_time": "2025-03-11T05:30:34.308735Z",
     "start_time": "2025-03-11T05:30:33.268394Z"
    },
    "execution": {
     "iopub.execute_input": "2025-03-11T05:56:22.268059Z",
     "iopub.status.busy": "2025-03-11T05:56:22.267788Z",
     "iopub.status.idle": "2025-03-11T05:56:23.189390Z",
     "shell.execute_reply": "2025-03-11T05:56:23.188657Z",
     "shell.execute_reply.started": "2025-03-11T05:56:22.268036Z"
    }
   },
   "outputs": [
    {
     "name": "stdout",
     "output_type": "stream",
     "text": [
      "torch.Size([2, 50, 12469])\n",
      "torch.Size([2, 50, 50])\n"
     ]
    }
   ],
   "source": [
    "# 测试一下Seq2Seq模型\n",
    "model = Sequence2Sequence(src_vocab_size=len(src_word2idx), trg_vocab_size=len(trg_word2idx))\n",
    "#做model的前向传播，看看输出的shape\n",
    "encoder_inputs = torch.randint(0, 100, (2, 50))\n",
    "decoder_inputs = torch.randint(0, 100, (2, 50))\n",
    "attn_mask = torch.randint(0, 2, (2, 50))\n",
    "logits, scores = model(encoder_inputs=encoder_inputs, decoder_inputs=decoder_inputs, attn_mask=attn_mask)\n",
    "print(logits.shape)\n",
    "print(scores.shape)"
   ]
  },
  {
   "cell_type": "code",
   "execution_count": 17,
   "id": "1d6d31fbdbc40de",
   "metadata": {
    "ExecuteTime": {
     "end_time": "2025-03-11T05:30:38.231003Z",
     "start_time": "2025-03-11T05:30:38.227443Z"
    },
    "execution": {
     "iopub.execute_input": "2025-03-11T05:56:23.190624Z",
     "iopub.status.busy": "2025-03-11T05:56:23.190272Z",
     "iopub.status.idle": "2025-03-11T05:56:23.195243Z",
     "shell.execute_reply": "2025-03-11T05:56:23.194457Z",
     "shell.execute_reply.started": "2025-03-11T05:56:23.190599Z"
    }
   },
   "outputs": [
    {
     "name": "stdout",
     "output_type": "stream",
     "text": [
      "The model has 72,968,118 trainable parameters\n"
     ]
    }
   ],
   "source": [
    "#计算一下model的总参数量\n",
    "def count_parameters(model):\n",
    "    return sum(p.numel() for p in model.parameters() if p.requires_grad)\n",
    "\n",
    "print(f\"The model has {count_parameters(model):,} trainable parameters\")"
   ]
  },
  {
   "cell_type": "code",
   "execution_count": 18,
   "id": "ae5b83292aa1cd98",
   "metadata": {
    "ExecuteTime": {
     "end_time": "2025-03-11T05:30:41.053347Z",
     "start_time": "2025-03-11T05:30:40.780896Z"
    },
    "execution": {
     "iopub.execute_input": "2025-03-11T05:56:23.198561Z",
     "iopub.status.busy": "2025-03-11T05:56:23.198173Z",
     "iopub.status.idle": "2025-03-11T05:56:23.744464Z",
     "shell.execute_reply": "2025-03-11T05:56:23.743814Z",
     "shell.execute_reply.started": "2025-03-11T05:56:23.198529Z"
    }
   },
   "outputs": [
    {
     "name": "stdout",
     "output_type": "stream",
     "text": [
      "The model has 72,968,118 trainable parameters\n"
     ]
    }
   ],
   "source": [
    "#初始化一个4层的GRU的model\n",
    "model=Sequence2Sequence(src_vocab_size=len(src_word2idx), trg_vocab_size=len(trg_word2idx), encoder_num_layers=4, decoder_num_layers=4)\n",
    "print(f\"The model has {count_parameters(model):,} trainable parameters\")"
   ]
  },
  {
   "cell_type": "markdown",
   "id": "2ae7ecc6cf3ef992",
   "metadata": {},
   "source": [
    "# 训练Seq2Seq模型\n",
    "很明显由于参数过多，后面的代码放到阿里云"
   ]
  },
  {
   "cell_type": "markdown",
   "id": "5332d82f0033d009",
   "metadata": {},
   "source": [
    "## 损失函数设计"
   ]
  },
  {
   "cell_type": "code",
   "execution_count": 19,
   "id": "5337362cb64e057",
   "metadata": {
    "ExecuteTime": {
     "end_time": "2025-03-11T05:23:40.768143Z",
     "start_time": "2025-03-11T05:23:40.763491Z"
    },
    "execution": {
     "iopub.execute_input": "2025-03-11T05:56:23.745356Z",
     "iopub.status.busy": "2025-03-11T05:56:23.745104Z",
     "iopub.status.idle": "2025-03-11T05:56:23.750095Z",
     "shell.execute_reply": "2025-03-11T05:56:23.749436Z",
     "shell.execute_reply.started": "2025-03-11T05:56:23.745334Z"
    }
   },
   "outputs": [],
   "source": [
    "# 采用交叉熵损失函数，并设计mask机制，使得padding部分的损失不计入损失函数的计算。\n",
    "def cross_entropy_with_padding(logits, labels, padding_mask=None):\n",
    "    # logits.shape = [batch size, sequence length, num of classes]\n",
    "    # labels.shape = [batch size, sequence length]\n",
    "    # padding_mask.shape = [batch size, sequence length] decoder_labels_mask\n",
    "    bs, seq_len, nc = logits.shape\n",
    "    loss = F.cross_entropy(logits.reshape(bs * seq_len, nc), labels.reshape(-1), reduce=False) #reduce=False表示不对batch求平均\n",
    "    if padding_mask is None:#如果没有padding_mask，就直接求平均\n",
    "        loss = loss.mean()\n",
    "    else:\n",
    "        # 如果提供了 padding_mask，则将padding填充部分的损失去除后计算有效损失的均值。首先，通过将 padding_mask reshape 成一维张量，并取 1 减去得到填充掩码。这样填充部分的掩码值变为 1，非填充部分变为 0。将损失张量与填充掩码相乘，这样填充部分的损失就会变为 0。然后，计算非填充部分的损失和（sum）以及非填充部分的掩码数量（sum）作为有效损失的均值计算。(因为上面我们设计的mask的token是0，所以这里是1-padding_mask)\n",
    "        padding_mask = 1 - padding_mask.reshape(-1) #将padding_mask reshape成一维张量，mask部分为0，非mask部分为1\n",
    "        loss = torch.mul(loss, padding_mask).sum() / padding_mask.sum()\n",
    "\n",
    "    return loss\n"
   ]
  },
  {
   "cell_type": "markdown",
   "id": "dfa663b3a58d32e9",
   "metadata": {},
   "source": [
    "## callback设计"
   ]
  },
  {
   "cell_type": "code",
   "execution_count": 20,
   "id": "c2d1fc4c6ba6b59",
   "metadata": {
    "ExecuteTime": {
     "end_time": "2025-03-11T05:23:52.815051Z",
     "start_time": "2025-03-11T05:23:40.768143Z"
    },
    "execution": {
     "iopub.execute_input": "2025-03-11T05:56:23.750898Z",
     "iopub.status.busy": "2025-03-11T05:56:23.750714Z",
     "iopub.status.idle": "2025-03-11T05:56:23.985250Z",
     "shell.execute_reply": "2025-03-11T05:56:23.984579Z",
     "shell.execute_reply.started": "2025-03-11T05:56:23.750878Z"
    }
   },
   "outputs": [],
   "source": [
    "from torch.utils.tensorboard import SummaryWriter\n",
    "\n",
    "\n",
    "class TensorBoardCallback:\n",
    "    def __init__(self, log_dir, flush_secs=10):\n",
    "        \"\"\"\n",
    "        Args:\n",
    "            log_dir (str): dir to write log.\n",
    "            flush_secs (int, optional): write to dsk each flush_secs seconds. Defaults to 10.\n",
    "        \"\"\"\n",
    "        self.writer = SummaryWriter(log_dir=log_dir, flush_secs=flush_secs)\n",
    "\n",
    "    def draw_model(self, model, input_shape):\n",
    "        self.writer.add_graph(model, input_to_model=torch.randn(input_shape))\n",
    "\n",
    "    def add_loss_scalars(self, step, loss, val_loss):\n",
    "        self.writer.add_scalars(\n",
    "            main_tag=\"training/loss\",\n",
    "            tag_scalar_dict={\"loss\": loss, \"val_loss\": val_loss},\n",
    "            global_step=step,\n",
    "            )\n",
    "\n",
    "    def add_acc_scalars(self, step, acc, val_acc):\n",
    "        self.writer.add_scalars(\n",
    "            main_tag=\"training/accuracy\",\n",
    "            tag_scalar_dict={\"accuracy\": acc, \"val_accuracy\": val_acc},\n",
    "            global_step=step,\n",
    "        )\n",
    "\n",
    "    def add_lr_scalars(self, step, learning_rate):\n",
    "        self.writer.add_scalars(\n",
    "            main_tag=\"training/learning_rate\",\n",
    "            tag_scalar_dict={\"learning_rate\": learning_rate},\n",
    "            global_step=step,\n",
    "\n",
    "        )\n",
    "\n",
    "    def __call__(self, step, **kwargs):\n",
    "        # add loss\n",
    "        loss = kwargs.pop(\"loss\", None)\n",
    "        val_loss = kwargs.pop(\"val_loss\", None)\n",
    "        if loss is not None and val_loss is not None:\n",
    "            self.add_loss_scalars(step, loss, val_loss)\n",
    "        # add acc\n",
    "        acc = kwargs.pop(\"acc\", None)\n",
    "        val_acc = kwargs.pop(\"val_acc\", None)\n",
    "        if acc is not None and val_acc is not None:\n",
    "            self.add_acc_scalars(step, acc, val_acc)\n",
    "        # add lr\n",
    "        learning_rate = kwargs.pop(\"lr\", None)\n",
    "        if learning_rate is not None:\n",
    "            self.add_lr_scalars(step, learning_rate)\n"
   ]
  },
  {
   "cell_type": "code",
   "execution_count": 21,
   "id": "a984521bae87a2eb",
   "metadata": {
    "ExecuteTime": {
     "end_time": "2025-03-11T05:23:52.821718Z",
     "start_time": "2025-03-11T05:23:52.815051Z"
    },
    "execution": {
     "iopub.execute_input": "2025-03-11T05:56:23.986862Z",
     "iopub.status.busy": "2025-03-11T05:56:23.986053Z",
     "iopub.status.idle": "2025-03-11T05:56:23.993581Z",
     "shell.execute_reply": "2025-03-11T05:56:23.992913Z",
     "shell.execute_reply.started": "2025-03-11T05:56:23.986818Z"
    }
   },
   "outputs": [],
   "source": [
    "# 保存最优模型\n",
    "class SaveCheckpointsCallback:\n",
    "    def __init__(self, save_dir, save_step=5000, save_best_only=True):\n",
    "        \"\"\"\n",
    "        Save checkpoints each save_epoch epoch.\n",
    "        We save checkpoint by epoch in this implementation.\n",
    "        Usually, training scripts with pytorch evaluating model and save checkpoint by step.\n",
    "\n",
    "        Args:\n",
    "            save_dir (str): dir to save checkpoint\n",
    "            save_epoch (int, optional): the frequency to save checkpoint. Defaults to 1.\n",
    "            save_best_only (bool, optional): If True, only save the best model or save each model at every epoch.\n",
    "        \"\"\"\n",
    "        self.save_dir = save_dir\n",
    "        self.save_step = save_step\n",
    "        self.save_best_only = save_best_only\n",
    "        self.best_metrics = - np.inf\n",
    "\n",
    "        # mkdir\n",
    "        if not os.path.exists(self.save_dir):\n",
    "            os.mkdir(self.save_dir)\n",
    "\n",
    "    def __call__(self, step, state_dict, metric=None):\n",
    "        if step % self.save_step > 0:\n",
    "            return\n",
    "\n",
    "        if self.save_best_only:\n",
    "            assert metric is not None\n",
    "            if metric >= self.best_metrics:\n",
    "                # save checkpoints\n",
    "                torch.save(state_dict, os.path.join(self.save_dir, \"best.ckpt\"))\n",
    "                # update best metrics\n",
    "                self.best_metrics = metric\n",
    "        else:\n",
    "            torch.save(state_dict, os.path.join(self.save_dir, f\"{step}.ckpt\"))\n",
    "\n"
   ]
  },
  {
   "cell_type": "markdown",
   "id": "5c8531dfc7161759",
   "metadata": {},
   "source": [
    "## 定义早停机制"
   ]
  },
  {
   "cell_type": "code",
   "execution_count": 22,
   "id": "34b159f84d62e92d",
   "metadata": {
    "ExecuteTime": {
     "end_time": "2025-03-11T05:23:52.827241Z",
     "start_time": "2025-03-11T05:23:52.822222Z"
    },
    "execution": {
     "iopub.execute_input": "2025-03-11T05:56:23.994826Z",
     "iopub.status.busy": "2025-03-11T05:56:23.994301Z",
     "iopub.status.idle": "2025-03-11T05:56:24.000255Z",
     "shell.execute_reply": "2025-03-11T05:56:23.999712Z",
     "shell.execute_reply.started": "2025-03-11T05:56:23.994790Z"
    }
   },
   "outputs": [],
   "source": [
    "class EarlyStopCallback:\n",
    "    def __init__(self, patience=5, min_delta=0.001):\n",
    "        \"\"\"\n",
    "\n",
    "        Args:\n",
    "            patience (int, optional): Number of epochs with no improvement after which training will be stopped.. Defaults to 5.\n",
    "            min_delta (float, optional): Minimum change in the monitored quantity to qualify as an improvement, i.e. an absolute\n",
    "                change of less than min_delta, will count as no improvement. Defaults to 0.01.\n",
    "        \"\"\"\n",
    "        self.patience = patience\n",
    "        self.min_delta = min_delta\n",
    "        self.best_metric = - np.inf\n",
    "        self.counter = 0\n",
    "\n",
    "    def __call__(self, metric):\n",
    "        if metric >= self.best_metric + self.min_delta:\n",
    "            # update best metric\n",
    "            self.best_metric = metric\n",
    "            # reset counter\n",
    "            self.counter = 0\n",
    "        else:\n",
    "            self.counter += 1\n",
    "\n",
    "    @property\n",
    "    def early_stop(self):\n",
    "        return self.counter >= self.patience\n"
   ]
  },
  {
   "cell_type": "markdown",
   "id": "737d5cdc21d14e17",
   "metadata": {},
   "source": [
    "## 训练和评估"
   ]
  },
  {
   "cell_type": "code",
   "execution_count": 23,
   "id": "bedfd3aa952bdf5a",
   "metadata": {
    "ExecuteTime": {
     "end_time": "2025-03-11T05:23:52.833739Z",
     "start_time": "2025-03-11T05:23:52.828241Z"
    },
    "execution": {
     "iopub.execute_input": "2025-03-11T05:56:24.001588Z",
     "iopub.status.busy": "2025-03-11T05:56:24.001034Z",
     "iopub.status.idle": "2025-03-11T05:56:24.006619Z",
     "shell.execute_reply": "2025-03-11T05:56:24.006045Z",
     "shell.execute_reply.started": "2025-03-11T05:56:24.001550Z"
    }
   },
   "outputs": [],
   "source": [
    "# 定义训练函数\n",
    "@torch.no_grad()\n",
    "def evaluating(model, dataloader, loss_fct):\n",
    "    loss_list = []\n",
    "    for batch in dataloader:\n",
    "        encoder_inputs = batch[\"encoder_inputs\"]\n",
    "        encoder_inputs_mask = batch[\"encoder_inputs_mask\"]\n",
    "        decoder_inputs = batch[\"decoder_inputs\"]\n",
    "        decoder_labels = batch[\"decoder_labels\"]\n",
    "        decoder_labels_mask = batch[\"decoder_labels_mask\"]\n",
    "\n",
    "        # 前向计算\n",
    "        logits, _ = model(\n",
    "            encoder_inputs=encoder_inputs,\n",
    "            decoder_inputs=decoder_inputs,\n",
    "            attn_mask=encoder_inputs_mask\n",
    "            ) #model就是seq2seq模型\n",
    "        loss = loss_fct(logits, decoder_labels, padding_mask=decoder_labels_mask)         # 验证集损失\n",
    "        loss_list.append(loss.cpu().item())\n",
    "\n",
    "    return np.mean(loss_list)\n"
   ]
  },
  {
   "cell_type": "code",
   "execution_count": 24,
   "id": "990543a960a5dbe5",
   "metadata": {
    "ExecuteTime": {
     "end_time": "2025-03-11T02:50:43.763400Z",
     "start_time": "2025-03-11T02:50:41.274212Z"
    },
    "ExecutionIndicator": {
     "show": true
    },
    "execution": {
     "iopub.execute_input": "2025-03-11T05:56:24.007904Z",
     "iopub.status.busy": "2025-03-11T05:56:24.007600Z",
     "iopub.status.idle": "2025-03-11T05:56:26.039719Z",
     "shell.execute_reply": "2025-03-11T05:56:26.039076Z",
     "shell.execute_reply.started": "2025-03-11T05:56:24.007871Z"
    },
    "tags": []
   },
   "outputs": [],
   "source": [
    "# 训练\n",
    "def training(\n",
    "    model,\n",
    "    train_loader,\n",
    "    val_loader,\n",
    "    epoch,\n",
    "    loss_fct,\n",
    "    optimizer,\n",
    "    tensorboard_callback=None,\n",
    "    save_ckpt_callback=None,\n",
    "    early_stop_callback=None,\n",
    "    eval_step=500,\n",
    "    ):\n",
    "    record_dict = {\n",
    "        \"train\": [],\n",
    "        \"val\": []\n",
    "    }\n",
    "\n",
    "    global_step = 1\n",
    "    model.train() # 切换到训练模式\n",
    "    with tqdm(total=epoch * len(train_loader)) as pbar:\n",
    "        for epoch_id in range(epoch):\n",
    "            # training\n",
    "            for batch in train_loader:\n",
    "                encoder_inputs = batch[\"encoder_inputs\"]\n",
    "                encoder_inputs_mask = batch[\"encoder_inputs_mask\"]\n",
    "                decoder_inputs = batch[\"decoder_inputs\"]\n",
    "                decoder_labels = batch[\"decoder_labels\"]\n",
    "                decoder_labels_mask = batch[\"decoder_labels_mask\"]\n",
    "\n",
    "                # 梯度清空\n",
    "                optimizer.zero_grad()\n",
    "\n",
    "                # 前向计算\n",
    "                logits, _ = model(\n",
    "                    encoder_inputs=encoder_inputs,\n",
    "                    decoder_inputs=decoder_inputs,\n",
    "                    attn_mask=encoder_inputs_mask\n",
    "                    )\n",
    "                loss = loss_fct(logits, decoder_labels, padding_mask=decoder_labels_mask)\n",
    "\n",
    "                # 梯度回传\n",
    "                loss.backward()\n",
    "\n",
    "                # 调整优化器，包括学习率的变动等\n",
    "                optimizer.step()\n",
    "\n",
    "                loss = loss.cpu().item()\n",
    "                # record\n",
    "                record_dict[\"train\"].append({\n",
    "                    \"loss\": loss, \"step\": global_step\n",
    "                })\n",
    "\n",
    "                # evaluating\n",
    "                if global_step % eval_step == 0:\n",
    "                    model.eval() # 切换到验证模式\n",
    "                    val_loss = evaluating(model, val_loader, loss_fct)\n",
    "                    record_dict[\"val\"].append({\n",
    "                        \"loss\": val_loss, \"step\": global_step\n",
    "                    })\n",
    "                    model.train() # 切换到训练模式\n",
    "\n",
    "                    # 1. 使用 tensorboard 可视化\n",
    "                    if tensorboard_callback is not None:\n",
    "                        tensorboard_callback(\n",
    "                            global_step,\n",
    "                            loss=loss, val_loss=val_loss,\n",
    "                            lr=optimizer.param_groups[0][\"lr\"],\n",
    "                            )\n",
    "\n",
    "                    # 2. 保存模型权重 save model checkpoint\n",
    "                    if save_ckpt_callback is not None:\n",
    "                        save_ckpt_callback(global_step, model.state_dict(), metric=-val_loss)\n",
    "\n",
    "                    # 3. 早停 Early Stop\n",
    "                    if early_stop_callback is not None:\n",
    "                        early_stop_callback(-val_loss)\n",
    "                        if early_stop_callback.early_stop:\n",
    "                            print(f\"Early stop at epoch {epoch_id} / global_step {global_step}\")\n",
    "                            return record_dict\n",
    "\n",
    "                # udate step\n",
    "                global_step += 1\n",
    "                pbar.update(1)\n",
    "            pbar.set_postfix({\"epoch\": epoch_id, \"loss\": loss, \"val_loss\": val_loss}) # 更新进度条\n",
    "\n",
    "    return record_dict\n",
    "\n",
    "\n",
    "epoch = 20\n",
    "batch_size = 64\n",
    "\n",
    "model = Sequence2Sequence(src_vocab_size=len(src_word2idx), trg_vocab_size=len(trg_word2idx))\n",
    "train_dl = DataLoader(train_ds, batch_size=batch_size, shuffle=True, collate_fn=collate_fct)\n",
    "test_dl = DataLoader(test_ds, batch_size=batch_size, shuffle=False, collate_fn=collate_fct)\n",
    "\n",
    "# 1. 定义损失函数 采用交叉熵损失\n",
    "loss_fct = cross_entropy_with_padding\n",
    "# 2. 定义优化器 采用 adam\n",
    "# Optimizers specified in the torch.optim package\n",
    "optimizer = torch.optim.Adam(model.parameters(), lr=0.001)\n",
    "\n",
    "# 1. tensorboard 可视化\n",
    "if not os.path.exists(\"runs\"):\n",
    "    os.mkdir(\"runs\")\n",
    "exp_name = \"translate-seq2seq\"\n",
    "tensorboard_callback = TensorBoardCallback(f\"runs/{exp_name}\")\n",
    "# tensorboard_callback.draw_model(model, [1, MAX_LENGTH])\n",
    "# 2. save best\n",
    "if not os.path.exists(\"checkpoints\"):\n",
    "    os.makedirs(\"checkpoints\")\n",
    "save_ckpt_callback = SaveCheckpointsCallback(\n",
    "    f\"{exp_name}\", save_step=200, save_best_only=True)\n",
    "# 3. early stop\n",
    "early_stop_callback = EarlyStopCallback(patience=5)\n",
    "\n",
    "model = model.to(device)\n",
    "\n"
   ]
  },
  {
   "cell_type": "code",
   "execution_count": 25,
   "id": "5dfd350cbe63ccf3",
   "metadata": {
    "ExecuteTime": {
     "end_time": "2025-03-11T02:52:03.473111Z",
     "start_time": "2025-03-11T02:50:43.764770Z"
    },
    "execution": {
     "iopub.execute_input": "2025-03-11T05:56:26.040806Z",
     "iopub.status.busy": "2025-03-11T05:56:26.040410Z",
     "iopub.status.idle": "2025-03-11T06:25:01.185118Z",
     "shell.execute_reply": "2025-03-11T06:25:01.184550Z",
     "shell.execute_reply.started": "2025-03-11T05:56:26.040781Z"
    }
   },
   "outputs": [
    {
     "name": "stderr",
     "output_type": "stream",
     "text": [
      "  0%|          | 0/33520 [00:00<?, ?it/s]/usr/local/lib/python3.10/site-packages/torch/nn/_reduction.py:51: UserWarning: size_average and reduce args will be deprecated, please use reduction='none' instead.\n",
      "  warnings.warn(warning.format(ret))\n",
      " 47%|████▋     | 15799/33520 [28:35<32:03,  9.21it/s, epoch=8, loss=3.72, val_loss=3.69]  "
     ]
    },
    {
     "name": "stdout",
     "output_type": "stream",
     "text": [
      "Early stop at epoch 9 / global_step 15800\n"
     ]
    },
    {
     "name": "stderr",
     "output_type": "stream",
     "text": [
      "\n"
     ]
    }
   ],
   "source": [
    "# 训练模型\n",
    "record = training(\n",
    "    model,\n",
    "    train_dl,\n",
    "    test_dl,\n",
    "    epoch,\n",
    "    loss_fct,\n",
    "    optimizer,\n",
    "    tensorboard_callback=None,\n",
    "    save_ckpt_callback=save_ckpt_callback,\n",
    "    early_stop_callback=early_stop_callback,\n",
    "    eval_step=200\n",
    "    )"
   ]
  },
  {
   "cell_type": "code",
   "execution_count": 26,
   "id": "ffde8e76df3cfdaa",
   "metadata": {
    "ExecuteTime": {
     "end_time": "2025-03-11T02:52:03.474116Z",
     "start_time": "2025-03-11T02:52:03.474116Z"
    },
    "execution": {
     "iopub.execute_input": "2025-03-11T06:25:01.186168Z",
     "iopub.status.busy": "2025-03-11T06:25:01.185948Z",
     "iopub.status.idle": "2025-03-11T06:25:01.325407Z",
     "shell.execute_reply": "2025-03-11T06:25:01.324894Z",
     "shell.execute_reply.started": "2025-03-11T06:25:01.186146Z"
    }
   },
   "outputs": [
    {
     "data": {
      "image/png": "[encoded data removed]",
      "text/plain": [
       "<Figure size 640x480 with 1 Axes>"
      ]
     },
     "metadata": {},
     "output_type": "display_data"
    }
   ],
   "source": [
    "# 画图\n",
    "import matplotlib.pyplot as plt\n",
    "plt.plot([i[\"step\"] for i in record[\"train\"]], [i[\"loss\"] for i in record[\"train\"]], label=\"train\")\n",
    "plt.plot([i[\"step\"] for i in record[\"val\"]], [i[\"loss\"] for i in record[\"val\"]], label=\"val\")\n",
    "plt.grid()\n",
    "plt.show()"
   ]
  },
  {
   "cell_type": "markdown",
   "id": "8d2b9a52913cf4a7",
   "metadata": {},
   "source": [
    "# 推理和预测"
   ]
  },
  {
   "cell_type": "code",
   "execution_count": 27,
   "id": "74d43d1991c5e34a",
   "metadata": {
    "ExecuteTime": {
     "end_time": "2025-03-11T05:32:08.017786Z",
     "start_time": "2025-03-11T05:32:07.064969Z"
    },
    "ExecutionIndicator": {
     "show": true
    },
    "execution": {
     "iopub.execute_input": "2025-03-11T06:25:01.326361Z",
     "iopub.status.busy": "2025-03-11T06:25:01.326092Z",
     "iopub.status.idle": "2025-03-11T06:25:02.053896Z",
     "shell.execute_reply": "2025-03-11T06:25:02.053235Z",
     "shell.execute_reply.started": "2025-03-11T06:25:01.326339Z"
    },
    "tags": []
   },
   "outputs": [],
   "source": [
    "# load checkpoints,如何上线\n",
    "model = Sequence2Sequence(src_vocab_size=len(src_word2idx), trg_vocab_size=len(trg_word2idx), encoder_num_layers=4, decoder_num_layers=4)\n",
    "model.load_state_dict(torch.load(f\"./translate-seq2seq/best.ckpt\", weights_only=True,map_location=\"cpu\"))\n",
    "\n",
    "class Translator:\n",
    "    def __init__(self, model, src_tokenizer, trg_tokenizer):\n",
    "        self.model = model\n",
    "        self.model.eval() # 切换到验证模式\n",
    "        self.src_tokenizer = src_tokenizer\n",
    "        self.trg_tokenizer = trg_tokenizer\n",
    "\n",
    "    def draw_attention_map(self, scores, src_words_list, trg_words_list):\n",
    "        \"\"\"绘制注意力热力图\n",
    "\n",
    "        Args:\n",
    "            - scores (numpy.ndarray): shape = [source sequence length, target sequence length]\n",
    "        \"\"\"\n",
    "        plt.matshow(scores.T, cmap='viridis') # 注意力矩阵,显示注意力分数值\n",
    "        # 获取当前的轴\n",
    "        ax = plt.gca()\n",
    "\n",
    "        # 设置热图中每个单元格的分数的文本\n",
    "        for i in range(scores.shape[0]): #输入\n",
    "            for j in range(scores.shape[1]): #输出\n",
    "                ax.text(j, i, f'{scores[i, j]:.2f}',  # 格式化数字显示\n",
    "                               ha='center', va='center', color='k')\n",
    "\n",
    "        plt.xticks(range(scores.shape[0]), src_words_list)\n",
    "        plt.yticks(range(scores.shape[1]), trg_words_list)\n",
    "        plt.show()\n",
    "\n",
    "    def __call__(self, sentence):\n",
    "        sentence = preprocess_sentence(sentence) # 预处理句子，标点符号处理等\n",
    "        encoder_input, attn_mask = self.src_tokenizer.encode(\n",
    "            [sentence.split()],\n",
    "            padding_first=True,\n",
    "            add_bos=True,\n",
    "            add_eos=True,\n",
    "            return_mask=True,\n",
    "            ) # 对输入进行编码，并返回encode_piadding_mask\n",
    "        encoder_input = torch.Tensor(encoder_input).to(dtype=torch.int64) # 转换成tensor\n",
    "\n",
    "        preds, scores = model.infer(encoder_input=encoder_input, attn_mask=attn_mask) #预测\n",
    "\n",
    "        trg_sentence = self.trg_tokenizer.decode([preds], split=True, remove_eos=False)[0] #通过tokenizer转换成文字\n",
    "\n",
    "        src_decoded = self.src_tokenizer.decode(\n",
    "            encoder_input.tolist(),\n",
    "            split=True,\n",
    "            remove_bos=False,\n",
    "            remove_eos=False\n",
    "            )[0] #对输入编码id进行解码，转换成文字,为了画图\n",
    "\n",
    "        self.draw_attention_map(\n",
    "            scores.squeeze(0).numpy(),\n",
    "            src_decoded, # 注意力图的源句子\n",
    "            trg_sentence # 注意力图的目标句子\n",
    "            )\n",
    "        return \" \".join(trg_sentence[:-1])\n",
    "\n",
    "\n"
   ]
  },
  {
   "cell_type": "code",
   "execution_count": 28,
   "id": "38d21a2d6ba215d3",
   "metadata": {
    "ExecuteTime": {
     "end_time": "2025-03-11T05:24:37.792693Z",
     "start_time": "2025-03-11T05:24:37.559679Z"
    },
    "execution": {
     "iopub.execute_input": "2025-03-11T06:25:02.054836Z",
     "iopub.status.busy": "2025-03-11T06:25:02.054603Z",
     "iopub.status.idle": "2025-03-11T06:25:02.293603Z",
     "shell.execute_reply": "2025-03-11T06:25:02.293046Z",
     "shell.execute_reply.started": "2025-03-11T06:25:02.054811Z"
    },
    "tags": []
   },
   "outputs": [
    {
     "data": {
      "image/png": "[encoded data removed]",
      "text/plain": [
       "<Figure size 400x685.714 with 1 Axes>"
      ]
     },
     "metadata": {},
     "output_type": "display_data"
    },
    {
     "data": {
      "text/plain": [
       "'i m not to be a lot of the same .'"
      ]
     },
     "execution_count": 28,
     "metadata": {},
     "output_type": "execute_result"
    }
   ],
   "source": [
    "# 实例化翻译器\n",
    "translator = Translator(model.cpu(), src_tokenizer, trg_tokenizer)\n",
    "translator(u'hace mucho frio aqui .')"
   ]
  },
  {
   "cell_type": "code",
   "execution_count": 29,
   "id": "72ad55361d4ad438",
   "metadata": {
    "ExecuteTime": {
     "end_time": "2025-03-11T05:24:44.745298Z",
     "start_time": "2025-03-11T05:24:44.565990Z"
    },
    "execution": {
     "iopub.execute_input": "2025-03-11T06:25:02.294493Z",
     "iopub.status.busy": "2025-03-11T06:25:02.294242Z",
     "iopub.status.idle": "2025-03-11T06:25:02.548649Z",
     "shell.execute_reply": "2025-03-11T06:25:02.548016Z",
     "shell.execute_reply.started": "2025-03-11T06:25:02.294470Z"
    },
    "tags": []
   },
   "outputs": [
    {
     "data": {
      "image/png": "[encoded data removed]",
      "text/plain": [
       "<Figure size 400x600 with 1 Axes>"
      ]
     },
     "metadata": {},
     "output_type": "display_data"
    },
    {
     "data": {
      "text/plain": [
       "'i m not to be a lot of the same .'"
      ]
     },
     "execution_count": 29,
     "metadata": {},
     "output_type": "execute_result"
    }
   ],
   "source": [
    "# 使用几个例子测试\n",
    "translator(u'Hoy es un buen día.')"
   ]
  },
  {
   "cell_type": "code",
   "execution_count": null,
   "id": "2dcaf0b50008beb3",
   "metadata": {
    "ExecuteTime": {
     "start_time": "2025-03-11T05:26:24.027060Z"
    },
    "ExecutionIndicator": {
     "show": true
    },
    "tags": []
   },
   "outputs": [],
   "source": [
    "# 计算 BLEU 分数\n",
    "model = Sequence2Sequence(src_vocab_size=len(src_word2idx), trg_vocab_size=len(trg_word2idx), encoder_num_layers=4, decoder_num_layers=4)\n",
    "model.load_state_dict(torch.load(f\"./translate-seq2seq/best.ckpt\", map_location=\"cpu\"))\n",
    "\n",
    "class Translator:\n",
    "    def __init__(self, model, src_tokenizer, trg_tokenizer):\n",
    "        self.model = model\n",
    "        self.model.eval() # 切换到验证模式\n",
    "        self.src_tokenizer = src_tokenizer\n",
    "        self.trg_tokenizer = trg_tokenizer\n",
    "\n",
    "    def __call__(self, sentence):\n",
    "        sentence = preprocess_sentence(sentence) # 预处理句子，标点符号处理等\n",
    "        encoder_input, attn_mask = self.src_tokenizer.encode(\n",
    "            [sentence.split()],\n",
    "            padding_first=True,\n",
    "            add_bos=True,\n",
    "            add_eos=True,\n",
    "            return_mask=True,\n",
    "            ) # 对输入进行编码，并返回encode_piadding_mask\n",
    "        encoder_input = torch.Tensor(encoder_input).to(dtype=torch.int64) # 转换成tensor\n",
    "\n",
    "        preds, scores = model.infer(encoder_input=encoder_input, attn_mask=attn_mask) #预测\n",
    "\n",
    "        trg_sentence = self.trg_tokenizer.decode([preds], split=True, remove_eos=False)[0] #通过tokenizer转换成文字\n",
    "\n",
    "        return \" \".join(trg_sentence[:-1])\n",
    "\n",
    "from nltk.translate.bleu_score import sentence_bleu\n",
    "\n",
    "def evaluate_bleu_on_test_set(test_data, translator):\n",
    "    \"\"\"\n",
    "    在测试集上计算平均 BLEU 分数。\n",
    "    :param test_data: 测试集数据，格式为 [(src_sentence, [ref_translation1, ref_translation2, ...]), ...]\n",
    "    :param translator: 翻译器对象（Translator 类的实例）\n",
    "    :return: 平均 BLEU 分数\n",
    "    \"\"\"\n",
    "    total_bleu = 0.0\n",
    "    num_samples = len(test_data)\n",
    "    i=0\n",
    "    for src_sentence, ref_translations in test_data:\n",
    "        # 使用翻译器生成翻译结果\n",
    "        candidate_translation = translator(src_sentence)\n",
    "\n",
    "        # 计算 BLEU 分数\n",
    "        bleu_score = sentence_bleu([ref_translations.split()], candidate_translation.split(),weights=(1, 0, 0, 0))\n",
    "        total_bleu += bleu_score\n",
    "\n",
    "        # 打印当前句子的 BLEU 分数（可选）\n",
    "        # print(f\"Source: {src_sentence}\")\n",
    "        # print(f\"Reference: {ref_translations}\")\n",
    "        # print(f\"Candidate: {candidate_translation}\")\n",
    "        # print(f\"BLEU: {bleu_score:.4f}\")\n",
    "        # print(\"-\" * 50)\n",
    "        # i+=1\n",
    "        # if i>10:\n",
    "        #     break\n",
    "    # 计算平均 BLEU 分数\n",
    "    avg_bleu = total_bleu / num_samples\n",
    "    return avg_bleu\n",
    "translator = Translator(model.cpu(), src_tokenizer, trg_tokenizer)\n",
    "evaluate_bleu_on_test_set(test_ds, translator)"
   ]
  }
 ],
 "metadata": {
  "kernelspec": {
   "display_name": "Python 3 (ipykernel)",
   "language": "python",
   "name": "python3"
  },
  "language_info": {
   "codemirror_mode": {
    "name": "ipython",
    "version": 3
   },
   "file_extension": ".py",
   "mimetype": "text/x-python",
   "name": "python",
   "nbconvert_exporter": "python",
   "pygments_lexer": "ipython3",
   "version": "3.10.14"
  }
 },
 "nbformat": 4,
 "nbformat_minor": 5
}
